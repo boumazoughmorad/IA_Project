{
 "cells": [
  {
   "cell_type": "markdown",
   "id": "4551d446",
   "metadata": {},
   "source": [
    "Covert text to speech using Watson TTS"
   ]
  },
  {
   "cell_type": "markdown",
   "id": "a80af818",
   "metadata": {},
   "source": [
    "# 0.Install Dependacies"
   ]
  },
  {
   "cell_type": "code",
   "execution_count": 2,
   "id": "6e170ace",
   "metadata": {},
   "outputs": [
    {
     "name": "stdout",
     "output_type": "stream",
     "text": [
      "Collecting ibm_watson\n",
      "  Downloading ibm-watson-7.0.1.tar.gz (389 kB)\n",
      "     ------------------------------------ 389.3/389.3 kB 177.1 kB/s eta 0:00:00\n",
      "  Installing build dependencies: started\n",
      "  Installing build dependencies: finished with status 'done'\n",
      "  Getting requirements to build wheel: started\n",
      "  Getting requirements to build wheel: finished with status 'done'\n",
      "  Preparing metadata (pyproject.toml): started\n",
      "  Preparing metadata (pyproject.toml): finished with status 'done'\n",
      "Requirement already satisfied: requests<3.0,>=2.0 in c:\\users\\lenovo\\anaconda3\\lib\\site-packages (from ibm_watson) (2.28.1)\n",
      "Collecting ibm-cloud-sdk-core==3.*,>=3.3.6\n",
      "  Downloading ibm-cloud-sdk-core-3.16.7.tar.gz (52 kB)\n",
      "     -------------------------------------- 52.3/52.3 kB 179.8 kB/s eta 0:00:00\n",
      "  Installing build dependencies: started\n",
      "  Installing build dependencies: finished with status 'done'\n",
      "  Getting requirements to build wheel: started\n",
      "  Getting requirements to build wheel: finished with status 'done'\n",
      "  Preparing metadata (pyproject.toml): started\n",
      "  Preparing metadata (pyproject.toml): finished with status 'done'\n",
      "Requirement already satisfied: python-dateutil>=2.5.3 in c:\\users\\lenovo\\anaconda3\\lib\\site-packages (from ibm_watson) (2.8.2)\n",
      "Collecting websocket-client>=1.1.0\n",
      "  Downloading websocket_client-1.6.1-py3-none-any.whl (56 kB)\n",
      "     -------------------------------------- 56.9/56.9 kB 186.7 kB/s eta 0:00:00\n",
      "Requirement already satisfied: urllib3<2.0.0,>=1.26.0 in c:\\users\\lenovo\\anaconda3\\lib\\site-packages (from ibm-cloud-sdk-core==3.*,>=3.3.6->ibm_watson) (1.26.11)\n",
      "Requirement already satisfied: PyJWT<3.0.0,>=2.4.0 in c:\\users\\lenovo\\anaconda3\\lib\\site-packages (from ibm-cloud-sdk-core==3.*,>=3.3.6->ibm_watson) (2.4.0)\n",
      "Collecting requests<3.0,>=2.0\n",
      "  Using cached requests-2.31.0-py3-none-any.whl (62 kB)\n",
      "Requirement already satisfied: six>=1.5 in c:\\users\\lenovo\\anaconda3\\lib\\site-packages (from python-dateutil>=2.5.3->ibm_watson) (1.15.0)\n",
      "Requirement already satisfied: charset-normalizer<4,>=2 in c:\\users\\lenovo\\anaconda3\\lib\\site-packages (from requests<3.0,>=2.0->ibm_watson) (2.0.4)\n",
      "Requirement already satisfied: idna<4,>=2.5 in c:\\users\\lenovo\\anaconda3\\lib\\site-packages (from requests<3.0,>=2.0->ibm_watson) (3.3)\n",
      "Requirement already satisfied: certifi>=2017.4.17 in c:\\users\\lenovo\\anaconda3\\lib\\site-packages (from requests<3.0,>=2.0->ibm_watson) (2022.9.14)\n",
      "Building wheels for collected packages: ibm_watson, ibm-cloud-sdk-core\n",
      "  Building wheel for ibm_watson (pyproject.toml): started\n",
      "  Building wheel for ibm_watson (pyproject.toml): finished with status 'done'\n",
      "  Created wheel for ibm_watson: filename=ibm_watson-7.0.1-py3-none-any.whl size=389835 sha256=ba61e33c3e57bb678f1b71c6ec715b37d4ba2b56200e438dcd2b329bf31a0ab2\n",
      "  Stored in directory: c:\\users\\lenovo\\appdata\\local\\pip\\cache\\wheels\\9a\\4d\\5c\\a1c7c9258ca9bd6360e390f7ddf8156ac274ccaed9c07de6c9\n",
      "  Building wheel for ibm-cloud-sdk-core (pyproject.toml): started\n",
      "  Building wheel for ibm-cloud-sdk-core (pyproject.toml): finished with status 'done'\n",
      "  Created wheel for ibm-cloud-sdk-core: filename=ibm_cloud_sdk_core-3.16.7-py3-none-any.whl size=85630 sha256=6164c8b98415db48cf582f11b509cd5774c687a6be85f9adde3045dc1d60c134\n",
      "  Stored in directory: c:\\users\\lenovo\\appdata\\local\\pip\\cache\\wheels\\80\\e6\\17\\e1e600bbb332cf90e4a65e60758038c643a216882d5c908a93\n",
      "Successfully built ibm_watson ibm-cloud-sdk-core\n",
      "Installing collected packages: websocket-client, requests, ibm-cloud-sdk-core, ibm_watson\n",
      "  Attempting uninstall: websocket-client\n",
      "    Found existing installation: websocket-client 0.58.0\n",
      "    Uninstalling websocket-client-0.58.0:\n",
      "      Successfully uninstalled websocket-client-0.58.0\n",
      "  Attempting uninstall: requests\n",
      "    Found existing installation: requests 2.28.1\n",
      "    Uninstalling requests-2.28.1:\n",
      "      Successfully uninstalled requests-2.28.1\n",
      "Successfully installed ibm-cloud-sdk-core-3.16.7 ibm_watson-7.0.1 requests-2.31.0 websocket-client-1.6.1\n",
      "Note: you may need to restart the kernel to use updated packages.\n"
     ]
    },
    {
     "name": "stderr",
     "output_type": "stream",
     "text": [
      "ERROR: pip's dependency resolver does not currently take into account all the packages that are installed. This behaviour is the source of the following dependency conflicts.\n",
      "anaconda-project 0.11.1 requires ruamel-yaml, which is not installed.\n",
      "conda-repo-cli 1.0.20 requires clyent==1.2.1, but you have clyent 1.2.2 which is incompatible.\n",
      "conda-repo-cli 1.0.20 requires nbformat==5.4.0, but you have nbformat 5.5.0 which is incompatible.\n",
      "conda-repo-cli 1.0.20 requires requests==2.28.1, but you have requests 2.31.0 which is incompatible.\n"
     ]
    }
   ],
   "source": [
    "pip install ibm_watson"
   ]
  },
  {
   "cell_type": "markdown",
   "id": "4fb1f5f3",
   "metadata": {},
   "source": [
    "# 1.Authenticate"
   ]
  },
  {
   "cell_type": "code",
   "execution_count": null,
   "id": "71279976",
   "metadata": {},
   "outputs": [],
   "source": []
  },
  {
   "cell_type": "markdown",
   "id": "22f9ff68",
   "metadata": {},
   "source": [
    "# 2.Couvert a String "
   ]
  },
  {
   "cell_type": "code",
   "execution_count": null,
   "id": "3979e23b",
   "metadata": {},
   "outputs": [],
   "source": []
  },
  {
   "cell_type": "markdown",
   "id": "e874fc82",
   "metadata": {},
   "source": [
    "# 3.Convert from a File"
   ]
  },
  {
   "cell_type": "code",
   "execution_count": null,
   "id": "7e9f9094",
   "metadata": {},
   "outputs": [],
   "source": []
  },
  {
   "cell_type": "markdown",
   "id": "d9fd4a90",
   "metadata": {},
   "source": [
    "# 4.Using New Language Models"
   ]
  },
  {
   "cell_type": "code",
   "execution_count": null,
   "id": "708e34e0",
   "metadata": {},
   "outputs": [],
   "source": []
  }
 ],
 "metadata": {
  "kernelspec": {
   "display_name": "Python 3 (ipykernel)",
   "language": "python",
   "name": "python3"
  },
  "language_info": {
   "codemirror_mode": {
    "name": "ipython",
    "version": 3
   },
   "file_extension": ".py",
   "mimetype": "text/x-python",
   "name": "python",
   "nbconvert_exporter": "python",
   "pygments_lexer": "ipython3",
   "version": "3.9.13"
  }
 },
 "nbformat": 4,
 "nbformat_minor": 5
}
